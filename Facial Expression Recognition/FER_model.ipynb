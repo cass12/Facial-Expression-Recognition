{
 "cells": [
  {
   "cell_type": "code",
   "execution_count": null,
   "metadata": {},
   "outputs": [],
   "source": [
    "!pip install livelossplot"
   ]
  },
  {
   "cell_type": "code",
   "execution_count": null,
   "metadata": {
    "execution": {
     "iopub.execute_input": "2021-11-20T14:50:02.389741Z",
     "iopub.status.busy": "2021-11-20T14:50:02.389124Z",
     "iopub.status.idle": "2021-11-20T14:50:02.394900Z",
     "shell.execute_reply": "2021-11-20T14:50:02.393843Z",
     "shell.execute_reply.started": "2021-11-20T14:50:02.389692Z"
    }
   },
   "outputs": [],
   "source": [
    "import keras,tensorflow\n",
    "from keras.models import Sequential\n",
    "from keras.layers import Dense, Conv2D, MaxPooling2D , Flatten, Dropout, BatchNormalization\n",
    "from keras.preprocessing.image import ImageDataGenerator\n",
    "import numpy as np\n",
    "import matplotlib.pyplot as plt \n",
    "from collections import Counter\n",
    "from sklearn.metrics import classification_report, confusion_matrix\n",
    "import math\n",
    "\n",
    "from tensorflow.keras.callbacks import ModelCheckpoint,ReduceLROnPlateau\n",
    "from livelossplot import PlotLossesKerasTF\n",
    "\n",
    "from tensorflow.keras.optimizers import SGD\n",
    "\n",
    "import pandas as pd\n",
    "import matplotlib.pyplot as plt\n",
    "import seaborn as sns"
   ]
  },
  {
   "cell_type": "code",
   "execution_count": null,
   "metadata": {
    "execution": {
     "iopub.execute_input": "2021-11-20T14:50:34.369538Z",
     "iopub.status.busy": "2021-11-20T14:50:34.369278Z",
     "iopub.status.idle": "2021-11-20T14:50:34.375895Z",
     "shell.execute_reply": "2021-11-20T14:50:34.375082Z",
     "shell.execute_reply.started": "2021-11-20T14:50:34.369509Z"
    }
   },
   "outputs": [],
   "source": [
    "def create_class_weight(labels_dict,mu=0.15):\n",
    "    total = np.sum(list(labels_dict.values()))\n",
    "    keys = labels_dict.keys()\n",
    "    class_weight = dict()\n",
    "    \n",
    "    for key in keys:\n",
    "        score = math.log(mu*total/float(labels_dict[key]))\n",
    "        class_weight[key] = score if score > 1.0 else 1.0\n",
    "    \n",
    "    return class_weight"
   ]
  },
  {
   "cell_type": "code",
   "execution_count": null,
   "metadata": {
    "execution": {
     "iopub.execute_input": "2021-11-20T14:50:14.105857Z",
     "iopub.status.busy": "2021-11-20T14:50:14.105113Z",
     "iopub.status.idle": "2021-11-20T14:50:25.378943Z",
     "shell.execute_reply": "2021-11-20T14:50:25.378164Z",
     "shell.execute_reply.started": "2021-11-20T14:50:14.105811Z"
    }
   },
   "outputs": [],
   "source": [
    "trdata = ImageDataGenerator()\n",
    "traindata = trdata.flow_from_directory(directory=\"../input/fer2013/train\",\n",
    "                                       target_size=(48,48),\n",
    "                                       color_mode='grayscale',\n",
    "                                       batch_size= 64,\n",
    "                                       class_mode = \"categorical\"\n",
    "                                       )\n",
    "tsdata = ImageDataGenerator(validation_split=0.5)\n",
    "validation = tsdata.flow_from_directory(directory=\"../input/fer2013/test\", #change path here accordingly\n",
    "                                      target_size=(48,48),\n",
    "                                      batch_size = 64,\n",
    "                                      color_mode = \"grayscale\",\n",
    "                                      class_mode = \"categorical\",\n",
    "                                      shuffle=False,\n",
    "                                      subset='training'\n",
    "                                     )\n",
    "testdata = tsdata.flow_from_directory(directory=\"../input/fer2013/train\", \n",
    "                                      target_size=(48,48),\n",
    "                                      batch_size = 64,\n",
    "                                      color_mode = \"grayscale\",\n",
    "                                      class_mode = \"categorical\",\n",
    "                                      shuffle=False,\n",
    "                                      subset='validation'\n",
    "                                     )"
   ]
  },
  {
   "cell_type": "code",
   "execution_count": null,
   "metadata": {
    "execution": {
     "iopub.execute_input": "2021-11-20T14:50:39.517083Z",
     "iopub.status.busy": "2021-11-20T14:50:39.516814Z",
     "iopub.status.idle": "2021-11-20T14:50:39.533606Z",
     "shell.execute_reply": "2021-11-20T14:50:39.532611Z",
     "shell.execute_reply.started": "2021-11-20T14:50:39.517052Z"
    }
   },
   "outputs": [],
   "source": [
    "class_weights = create_class_weight(Counter(traindata.classes))\n",
    "print(class_weights)"
   ]
  },
  {
   "cell_type": "code",
   "execution_count": null,
   "metadata": {
    "execution": {
     "iopub.execute_input": "2021-11-20T14:50:54.519957Z",
     "iopub.status.busy": "2021-11-20T14:50:54.519425Z",
     "iopub.status.idle": "2021-11-20T14:50:54.659270Z",
     "shell.execute_reply": "2021-11-20T14:50:54.658572Z",
     "shell.execute_reply.started": "2021-11-20T14:50:54.519921Z"
    }
   },
   "outputs": [],
   "source": [
    "model = Sequential()\n",
    "\n",
    "model.add(BatchNormalization(input_shape=(48,48,1)))\n",
    "model.add(Conv2D(32, (3, 3), activation='relu',padding='same', input_shape=(48,48,1)))\n",
    "model.add(BatchNormalization())\n",
    "model.add(MaxPooling2D(pool_size=(2, 2)))\n",
    "model.add(Dropout(0.2))\n",
    "model.add(Conv2D(32, (3, 3), activation='relu',padding='same'))\n",
    "model.add(BatchNormalization())\n",
    "model.add(MaxPooling2D(pool_size=(2, 2)))         \n",
    "model.add(Dropout(0.2))\n",
    "model.add(Conv2D(64, (3, 3), activation='relu',padding='same'))\n",
    "model.add(BatchNormalization())\n",
    "model.add(MaxPooling2D(pool_size=(2, 2)))\n",
    "model.add(Dropout(0.2))\n",
    "model.add(Conv2D(64, (3, 3), activation='relu',padding='same'))\n",
    "model.add(BatchNormalization())\n",
    "model.add(MaxPooling2D(pool_size=(2, 2)))\n",
    "model.add(Dropout(0.2))\n",
    "\n",
    "model.add(Flatten())\n",
    "model.add(Dense(1024, activation='relu'))\n",
    "model.add(Dropout(0.5))\n",
    "model.add(BatchNormalization())\n",
    "model.add(Dense(7, activation='softmax'))"
   ]
  },
  {
   "cell_type": "code",
   "execution_count": null,
   "metadata": {
    "execution": {
     "iopub.execute_input": "2021-11-20T14:53:08.703912Z",
     "iopub.status.busy": "2021-11-20T14:53:08.703359Z",
     "iopub.status.idle": "2021-11-20T14:53:08.710000Z",
     "shell.execute_reply": "2021-11-20T14:53:08.709045Z",
     "shell.execute_reply.started": "2021-11-20T14:53:08.703876Z"
    }
   },
   "outputs": [],
   "source": [
    "checkpoint = ModelCheckpoint('model.h5',\n",
    "                             monitor='val_loss',\n",
    "                             mode='min',\n",
    "                             save_best_only=True,\n",
    "                             verbose=1)\n",
    "\n",
    "reduce_lr = ReduceLROnPlateau(monitor='val_loss',\n",
    "                              mode='min',\n",
    "                              factor=0.5, \n",
    "                              patience=2, \n",
    "                              min_lr=0.00001, \n",
    "                              verbose=1)\n",
    "\n",
    "callbacks = [PlotLossesKerasTF(),checkpoint,reduce_lr]"
   ]
  },
  {
   "cell_type": "code",
   "execution_count": null,
   "metadata": {},
   "outputs": [],
   "source": [
    "sgd = SGD(lr=0.01,momentum=0.9, decay=0.0001, nesterov=True)\n",
    "model.compile(loss='categorical_crossentropy',optimizer=sgd,metrics=['accuracy'])"
   ]
  },
  {
   "cell_type": "code",
   "execution_count": null,
   "metadata": {
    "execution": {
     "iopub.execute_input": "2021-11-18T18:22:56.127592Z",
     "iopub.status.busy": "2021-11-18T18:22:56.127335Z",
     "iopub.status.idle": "2021-11-18T18:28:32.825475Z",
     "shell.execute_reply": "2021-11-18T18:28:32.82466Z",
     "shell.execute_reply.started": "2021-11-18T18:22:56.127564Z"
    }
   },
   "outputs": [],
   "source": [
    "history=model.fit_generator(generator=traindata,\n",
    "                            callbacks=callbacks,\n",
    "                            validation_data=validation,\n",
    "                            class_weight=class_weights, \n",
    "                            epochs=30)"
   ]
  },
  {
   "cell_type": "code",
   "execution_count": null,
   "metadata": {},
   "outputs": [],
   "source": [
    "#save model architecture to JSON (for the Flask app)\n",
    "model_json = model.to_json()\n",
    "with open(\"model.json\", \"w\") as json_file:\n",
    "    json_file.write(model_json)\n",
    "model.save_weights(\"model_weights.h5\")"
   ]
  },
  {
   "cell_type": "code",
   "execution_count": null,
   "metadata": {
    "execution": {
     "iopub.execute_input": "2021-11-18T18:32:11.248909Z",
     "iopub.status.busy": "2021-11-18T18:32:11.248315Z",
     "iopub.status.idle": "2021-11-18T18:32:11.494998Z",
     "shell.execute_reply": "2021-11-18T18:32:11.494301Z",
     "shell.execute_reply.started": "2021-11-18T18:32:11.248871Z"
    }
   },
   "outputs": [],
   "source": [
    "import time\n",
    "from keras.preprocessing import image\n",
    "img = image.load_img(\"../input/testphoto/testphoto7.png\",target_size=(48,48),grayscale=True)\n",
    "img = np.asarray(img)\n",
    "plt.imshow(img,cmap='gray')\n",
    "img=img.reshape(48,48,1)\n",
    "img = np.expand_dims(img, axis=0)\n",
    "start_time = time.time()\n",
    "output = lmodel.predict(img)\n",
    "print(\"--- %s seconds ---\" % (time.time() - start_time))\n",
    "print(str(output[0][0]*100) +\"% angry\")\n",
    "print(str(output[0][1]*100) +\"% disgust\")\n",
    "print(str(output[0][2]*100) +\"% fear\")\n",
    "print(str(output[0][3]*100) +\"% happy\")\n",
    "print(str(output[0][4]*100) +\"% neutral\")\n",
    "print(str(output[0][5]*100)+\"% sad\")\n",
    "print(str(output[0][6]*100)+\"% surprise\")\n"
   ]
  },
  {
   "cell_type": "code",
   "execution_count": null,
   "metadata": {},
   "outputs": [],
   "source": [
    "plt.plot(history.history['loss'], label='Loss')\n",
    "plt.plot(history.history['val_loss'], label='Validation loss')\n",
    "plt.title('CNN Metrices(Loss)')\n",
    "plt.ylabel('% value')\n",
    "plt.xlabel('Epoch')\n",
    "plt.legend(loc=\"upper left\")\n",
    "plt.show()\n",
    "plt.plot(history.history['accuracy'], label='Accuracy')\n",
    "plt.plot(history.history['val_accuracy'], label='Validation Accuracy')\n",
    "plt.title('CNN Metrices (Accuracy)')\n",
    "plt.ylabel('% value')\n",
    "plt.xlabel('Epoch')\n",
    "plt.legend(loc=\"upper left\")\n",
    "plt.show()"
   ]
  },
  {
   "cell_type": "code",
   "execution_count": null,
   "metadata": {
    "execution": {
     "iopub.execute_input": "2021-11-18T18:50:29.969133Z",
     "iopub.status.busy": "2021-11-18T18:50:29.968857Z",
     "iopub.status.idle": "2021-11-18T18:50:38.952015Z",
     "shell.execute_reply": "2021-11-18T18:50:38.951256Z",
     "shell.execute_reply.started": "2021-11-18T18:50:29.969102Z"
    }
   },
   "outputs": [],
   "source": [
    "emotions = {0:'Angry', 1:'Disgust', 2:'Fear', 3:'Happy', 4:'Neutral',5:'Sad', 6:'Surprise'}\n",
    "\n",
    "y_pred = lmodel.predict_generator(testdata).argmax(axis=1)\n",
    "y_true = testdata.classes\n",
    "\n",
    "cmat_df_test=pd.DataFrame(\n",
    "  confusion_matrix(y_true, y_pred, normalize='true').round(2),\n",
    "  index=emotions.values(), \n",
    "  columns=emotions.values()\n",
    "  )\n",
    "\n",
    "plt.figure(figsize=(5,5))\n",
    "sns.heatmap(cmat_df_test,annot=True,cmap=plt.cm.Blues)\n",
    "plt.tight_layout()\n",
    "plt.title('Confusion Matrix on Private Test Set')\n",
    "plt.ylabel('True label')\n",
    "plt.xlabel('Predicted label')\n",
    "plt.show()"
   ]
  },
  {
   "cell_type": "code",
   "execution_count": null,
   "metadata": {},
   "outputs": [],
   "source": []
  }
 ],
 "metadata": {
  "kernelspec": {
   "display_name": "Python 3",
   "language": "python",
   "name": "python3"
  },
  "language_info": {
   "codemirror_mode": {
    "name": "ipython",
    "version": 3
   },
   "file_extension": ".py",
   "mimetype": "text/x-python",
   "name": "python",
   "nbconvert_exporter": "python",
   "pygments_lexer": "ipython3",
   "version": "3.8.10"
  }
 },
 "nbformat": 4,
 "nbformat_minor": 4
}
